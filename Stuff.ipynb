{
 "cells": [
  {
   "cell_type": "code",
   "execution_count": 1,
   "id": "e025fe8b-6e63-4402-bb51-3b47465daef6",
   "metadata": {},
   "outputs": [
    {
     "name": "stdout",
     "output_type": "stream",
     "text": [
      "Countdown: 5\n",
      "Countdown: 4\n",
      "Countdown: 3\n",
      "Countdown: 2\n",
      "Countdown: 1\n",
      "Liftoff!\n"
     ]
    }
   ],
   "source": [
    "#using a while loop\n",
    "count = 5\n",
    "\n",
    "while count > 0:\n",
    "    print(f\"Countdown: {count}\")\n",
    "    count = count - 1 # Decrease the count by 1 each time \n",
    "\n",
    "print(\"Liftoff!\")"
   ]
  },
  {
   "cell_type": "code",
   "execution_count": 3,
   "id": "71dad516-27e7-4dfa-81b5-157a64b9fba2",
   "metadata": {},
   "outputs": [
    {
     "name": "stdout",
     "output_type": "stream",
     "text": [
      "Original numbers: [1, 2, 3, 4, 5]\n",
      "Squared numbers: [1, 4, 9, 16, 25]\n"
     ]
    }
   ],
   "source": [
    "#list of numbers\n",
    "numbers = [1,2,3,4,5]; \n",
    "\n",
    "#Empty list to store the squared numbers\n",
    "squared_numbers = []\n",
    "\n",
    "#For loop iterate over the list and square each numbers\n",
    "for num in numbers:\n",
    "    square = num ** 2 #calculate the square of the current number\n",
    "    squared_numbers.append(square)\n",
    "\n",
    "#Print the result\n",
    "print(\"Original numbers:\", numbers)\n",
    "print(\"Squared numbers:\", squared_numbers)"
   ]
  },
  {
   "cell_type": "code",
   "execution_count": 7,
   "id": "f91f6bb7-6394-4d54-9d8a-8fc4ce6306e4",
   "metadata": {},
   "outputs": [
    {
     "name": "stdin",
     "output_type": "stream",
     "text": [
      "Guess the number (between 1 and 10: 2\n"
     ]
    },
    {
     "name": "stdout",
     "output_type": "stream",
     "text": [
      "Too high! Try again.\n"
     ]
    },
    {
     "name": "stdin",
     "output_type": "stream",
     "text": [
      "Guess the number (between 1 and 10: 3\n"
     ]
    },
    {
     "name": "stdout",
     "output_type": "stream",
     "text": [
      "Too high! Try again.\n"
     ]
    },
    {
     "name": "stdin",
     "output_type": "stream",
     "text": [
      "Guess the number (between 1 and 10: 1\n"
     ]
    },
    {
     "name": "stdout",
     "output_type": "stream",
     "text": [
      "Congrats~ You guessed the number in 3 attempts.\n"
     ]
    }
   ],
   "source": [
    "# import random\n",
    "import random\n",
    "# Random number between 1 and 10\n",
    "target_number = random.randint(1,10)\n",
    "attempts = 0\n",
    "max_attempts = 5\n",
    "\n",
    "# While loop let the user guess the number\n",
    "while attempts < max_attempts:\n",
    "    guess = int(input(\"Guess the number (between 1 and 10:\"))\n",
    "    attempts += 1\n",
    "\n",
    "    if guess == target_number:\n",
    "        print(f\"Congrats~ You guessed the number in {attempts} attempts.\")\n",
    "        break\n",
    "    elif guess < target_number:\n",
    "        print(\"Too low! Try again.\")\n",
    "    else:\n",
    "        print(\"Too high! Try again.\")\n",
    "\n",
    "    if attempts == max_attempts:\n",
    "        print(f\"sorry, you've used all {max_attempts} attempst. The correct number was {target_number}.\")"
   ]
  },
  {
   "cell_type": "code",
   "execution_count": null,
   "id": "459d52f3-f91a-45d2-b4e6-81a71cf741b8",
   "metadata": {},
   "outputs": [],
   "source": []
  }
 ],
 "metadata": {
  "kernelspec": {
   "display_name": "Python 3 (ipykernel)",
   "language": "python",
   "name": "python3"
  },
  "language_info": {
   "codemirror_mode": {
    "name": "ipython",
    "version": 3
   },
   "file_extension": ".py",
   "mimetype": "text/x-python",
   "name": "python",
   "nbconvert_exporter": "python",
   "pygments_lexer": "ipython3",
   "version": "3.12.4"
  }
 },
 "nbformat": 4,
 "nbformat_minor": 5
}

{
 "cells": [
  {
   "cell_type": "code",
   "execution_count": 1,
   "id": "eb1a82e1-e8d1-48cf-84ca-fae8603f6256",
   "metadata": {},
   "outputs": [
    {
     "data": {
      "text/plain": [
       "6"
      ]
     },
     "execution_count": 1,
     "metadata": {},
     "output_type": "execute_result"
    }
   ],
   "source": [
    "3+3 "
   ]
  },
  {
   "cell_type": "code",
   "execution_count": null,
   "id": "4426aaf4-258a-4b99-88e9-f97d781374f6",
   "metadata": {},
   "outputs": [],
   "source": []
  },
  {
   "cell_type": "code",
   "execution_count": null,
   "id": "7c552263-78ba-4597-9db6-e35b28642a27",
   "metadata": {},
   "outputs": [],
   "source": []
  },
  {
   "cell_type": "code",
   "execution_count": 13,
   "id": "e8cb0f6b-99c0-43c9-bb53-f569a79edb32",
   "metadata": {},
   "outputs": [
    {
     "name": "stdout",
     "output_type": "stream",
     "text": [
      "Total cost: 105.0\n"
     ]
    }
   ],
   "source": [
    "def calculate_total(price, tax):\n",
    "    return price + (price * tax)\n",
    "\n",
    "total = calculate_total(100, 0.05)\n",
    "print(f\"Total cost: {total}\")"
   ]
  },
  {
   "cell_type": "code",
   "execution_count": 15,
   "id": "3e9add79-7568-4f6d-9d64-82204f2bad83",
   "metadata": {},
   "outputs": [
    {
     "name": "stdout",
     "output_type": "stream",
     "text": [
      "105.0\n",
      "Total cost: None\n"
     ]
    }
   ],
   "source": [
    "def calculate_total(price, tax):\n",
    "    print(price + (price * tax))\n",
    "\n",
    "total = calculate_total(100, 0.05)\n",
    "print(f\"Total cost: {total}\")"
   ]
  },
  {
   "cell_type": "code",
   "execution_count": 31,
   "id": "7a413fcd-bf2d-40e8-945b-212b7d4cef63",
   "metadata": {},
   "outputs": [
    {
     "name": "stdout",
     "output_type": "stream",
     "text": [
      "32\n"
     ]
    }
   ],
   "source": [
    "def square(x):\n",
    "    return x * x\n",
    "\n",
    "result = square(4)\n",
    "doubled_result  = result * 2\n",
    "print(doubled_result)"
   ]
  },
  {
   "cell_type": "code",
   "execution_count": 33,
   "id": "bba16365-c619-4c44-a596-0f75e97d9cd9",
   "metadata": {},
   "outputs": [
    {
     "name": "stdout",
     "output_type": "stream",
     "text": [
      "16\n"
     ]
    },
    {
     "ename": "TypeError",
     "evalue": "unsupported operand type(s) for *: 'NoneType' and 'int'",
     "output_type": "error",
     "traceback": [
      "\u001b[0;31m---------------------------------------------------------------------------\u001b[0m",
      "\u001b[0;31mTypeError\u001b[0m                                 Traceback (most recent call last)",
      "Cell \u001b[0;32mIn[33], line 5\u001b[0m\n\u001b[1;32m      2\u001b[0m     \u001b[38;5;28mprint\u001b[39m(x \u001b[38;5;241m*\u001b[39m x)\n\u001b[1;32m      4\u001b[0m result \u001b[38;5;241m=\u001b[39m square(\u001b[38;5;241m4\u001b[39m)\n\u001b[0;32m----> 5\u001b[0m doubled_result  \u001b[38;5;241m=\u001b[39m result \u001b[38;5;241m*\u001b[39m \u001b[38;5;241m2\u001b[39m\n\u001b[1;32m      6\u001b[0m \u001b[38;5;28mprint\u001b[39m(doubled_result)\n",
      "\u001b[0;31mTypeError\u001b[0m: unsupported operand type(s) for *: 'NoneType' and 'int'"
     ]
    }
   ],
   "source": [
    "def square(x):\n",
    "    print(x * x)\n",
    "\n",
    "result = square(4)\n",
    "doubled_result  = result * 2\n",
    "print(doubled_result)"
   ]
  },
  {
   "cell_type": "code",
   "execution_count": null,
   "id": "dc180f7c-96e6-4b45-ace9-d5da8de44126",
   "metadata": {},
   "outputs": [],
   "source": []
  }
 ],
 "metadata": {
  "kernelspec": {
   "display_name": "Python 3 (ipykernel)",
   "language": "python",
   "name": "python3"
  },
  "language_info": {
   "codemirror_mode": {
    "name": "ipython",
    "version": 3
   },
   "file_extension": ".py",
   "mimetype": "text/x-python",
   "name": "python",
   "nbconvert_exporter": "python",
   "pygments_lexer": "ipython3",
   "version": "3.12.4"
  }
 },
 "nbformat": 4,
 "nbformat_minor": 5
}

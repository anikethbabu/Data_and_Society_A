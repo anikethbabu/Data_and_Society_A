{
 "cells": [
  {
   "cell_type": "code",
   "execution_count": 7,
   "id": "6dcb43e4-c67f-4e7e-aff8-cbc6c2570a17",
   "metadata": {},
   "outputs": [
    {
     "name": "stdout",
     "output_type": "stream",
     "text": [
      "7\n",
      "None\n"
     ]
    }
   ],
   "source": [
    "def find_max(a,b,c):\n",
    "    print(max(a, b, c))\n",
    "\n",
    "# Test the function \n",
    "print(find_max(3, 7, 5))"
   ]
  },
  {
   "cell_type": "code",
   "execution_count": 9,
   "id": "34e6a15a-d1cb-4596-8f7f-4b62c82255f6",
   "metadata": {},
   "outputs": [
    {
     "data": {
      "text/plain": [
       "17"
      ]
     },
     "execution_count": 9,
     "metadata": {},
     "output_type": "execute_result"
    }
   ],
   "source": [
    "max(3, 8, 17)"
   ]
  },
  {
   "cell_type": "code",
   "execution_count": 15,
   "id": "54984773-2122-4b01-bd54-b80194fb6c58",
   "metadata": {},
   "outputs": [
    {
     "name": "stdout",
     "output_type": "stream",
     "text": [
      "37.0\n"
     ]
    }
   ],
   "source": [
    "def farenheit_to_celsius(f):\n",
    "    return (5/9) * (f - 32)\n",
    "\n",
    "# Test the function\n",
    "print(farenheit_to_celsius(98.6))"
   ]
  },
  {
   "cell_type": "code",
   "execution_count": 25,
   "id": "115b1229-cfe7-4371-9751-296aa4862c87",
   "metadata": {},
   "outputs": [
    {
     "name": "stdout",
     "output_type": "stream",
     "text": [
      "78.53981633974483\n"
     ]
    }
   ],
   "source": [
    "import math\n",
    "\n",
    "def circle_area(radius):\n",
    "    return math.pi * radius ** 2\n",
    "\n",
    "# Test the function\n",
    "print(circle_area(5))"
   ]
  },
  {
   "cell_type": "code",
   "execution_count": 49,
   "id": "e91625cd-421b-49c4-ab92-e9aff3b51465",
   "metadata": {},
   "outputs": [
    {
     "name": "stdout",
     "output_type": "stream",
     "text": [
      "olleh\n"
     ]
    }
   ],
   "source": [
    "def reverse_string(s):\n",
    "    return s[::-1]\n",
    "\n",
    "# Test the function\n",
    "print(reverse_string(\"hello\"))"
   ]
  },
  {
   "cell_type": "code",
   "execution_count": 53,
   "id": "fe475e01-2f7a-4a85-915f-96bf83903e89",
   "metadata": {},
   "outputs": [
    {
     "name": "stdout",
     "output_type": "stream",
     "text": [
      "Sum: 15\n"
     ]
    }
   ],
   "source": [
    "number = [1,2,3,4,5]\n",
    "total = 0\n",
    "for num in number:\n",
    "    total += num\n",
    "\n",
    "print(\"Sum:\", total)"
   ]
  },
  {
   "cell_type": "code",
   "execution_count": 55,
   "id": "e01bde4b-ad04-4367-890c-e2ccd8e9fdf8",
   "metadata": {},
   "outputs": [
    {
     "name": "stdout",
     "output_type": "stream",
     "text": [
      "First even number: 10\n"
     ]
    }
   ],
   "source": [
    "numbers = [1, 3, 7, 10, 5]\n",
    "i = 0\n",
    "while i < len(numbers):\n",
    "    if numbers[i] % 2 == 0:\n",
    "        print(\"First even number:\" , numbers [i])\n",
    "        break\n",
    "    i += 1"
   ]
  }
 ],
 "metadata": {
  "kernelspec": {
   "display_name": "Python 3 (ipykernel)",
   "language": "python",
   "name": "python3"
  },
  "language_info": {
   "codemirror_mode": {
    "name": "ipython",
    "version": 3
   },
   "file_extension": ".py",
   "mimetype": "text/x-python",
   "name": "python",
   "nbconvert_exporter": "python",
   "pygments_lexer": "ipython3",
   "version": "3.12.4"
  }
 },
 "nbformat": 4,
 "nbformat_minor": 5
}

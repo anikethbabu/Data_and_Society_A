{
 "cells": [
  {
   "cell_type": "markdown",
   "id": "ee33fcd4-873e-40ed-8656-8d6068c3bcbd",
   "metadata": {},
   "source": [
    "## Task 1:"
   ]
  },
  {
   "cell_type": "code",
   "execution_count": 1,
   "id": "cc1555fc-facf-4c19-af95-bb6cf34f7920",
   "metadata": {},
   "outputs": [],
   "source": [
    "def square_number(number):\n",
    "    return number ** 2"
   ]
  },
  {
   "cell_type": "code",
   "execution_count": 23,
   "id": "989e30c0-b74c-4160-aa20-aa5158299089",
   "metadata": {},
   "outputs": [
    {
     "name": "stdout",
     "output_type": "stream",
     "text": [
      "36\n"
     ]
    }
   ],
   "source": [
    "print(square_number(6))"
   ]
  },
  {
   "cell_type": "markdown",
   "id": "4a5943c6-0d4c-4657-b332-7996b59de764",
   "metadata": {},
   "source": [
    "## Task 2:"
   ]
  },
  {
   "cell_type": "code",
   "execution_count": 33,
   "id": "e1af4f2e-d73d-4bf6-a6d9-68fa8ad9584c",
   "metadata": {},
   "outputs": [],
   "source": [
    "def grade_student(studentScore):\n",
    "    if 90 <= studentScore:\n",
    "        return \"A\"\n",
    "    elif 80 <= studentScore:\n",
    "        return \"B\"\n",
    "    elif 70 <= studentScore:\n",
    "        return \"C\"\n",
    "    elif 60 <= studentScore:\n",
    "        return \"D\"\n",
    "    else:\n",
    "        return \"F\"\n"
   ]
  },
  {
   "cell_type": "code",
   "execution_count": 35,
   "id": "513a4ef6-9c9a-4277-b797-0f8fbfc1f740",
   "metadata": {},
   "outputs": [
    {
     "name": "stdout",
     "output_type": "stream",
     "text": [
      "A\n"
     ]
    }
   ],
   "source": [
    "print(grade_student(100))"
   ]
  }
 ],
 "metadata": {
  "kernelspec": {
   "display_name": "Python 3 (ipykernel)",
   "language": "python",
   "name": "python3"
  },
  "language_info": {
   "codemirror_mode": {
    "name": "ipython",
    "version": 3
   },
   "file_extension": ".py",
   "mimetype": "text/x-python",
   "name": "python",
   "nbconvert_exporter": "python",
   "pygments_lexer": "ipython3",
   "version": "3.12.4"
  }
 },
 "nbformat": 4,
 "nbformat_minor": 5
}

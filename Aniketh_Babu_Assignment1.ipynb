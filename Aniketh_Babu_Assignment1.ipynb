{
 "cells": [
  {
   "cell_type": "markdown",
   "id": "c06752c4-8858-49a1-bf67-8c6037b1560e",
   "metadata": {},
   "source": [
    "### Part 1:"
   ]
  },
  {
   "cell_type": "code",
   "execution_count": 5,
   "id": "f32ba8fd-78c1-451f-80f3-d490fc7eb3c3",
   "metadata": {},
   "outputs": [],
   "source": [
    "name = \"Aniketh Babu\"\n",
    "age = 21\n",
    "height_meters = 1.73\n",
    "is_Student = True\n",
    "days_lived = 21 * 365\n",
    "height_feet = 1.73 * 3.28084"
   ]
  },
  {
   "cell_type": "markdown",
   "id": "ba3acacd-b09c-4453-a31a-3e79b25be13d",
   "metadata": {},
   "source": [
    "### Part 2:"
   ]
  },
  {
   "cell_type": "code",
   "execution_count": 54,
   "id": "b77d82a5-3247-4d17-ac4d-2b775c84fa38",
   "metadata": {},
   "outputs": [
    {
     "name": "stdout",
     "output_type": "stream",
     "text": [
      "Boxing Muay Thai\n"
     ]
    }
   ],
   "source": [
    "favorite_spots = [\"Muay Thai\", \"Wrestling\", \"Basketball\", \"MMA\", \"Football\"]\n",
    "favorite_spots.append(\"Boxing\")\n",
    "favorite_spots.pop(2)\n",
    "favorite_spots = favorite_spots[::-1]\n",
    "print(favorite_spots[0] + \" \" + favorite_spots[-1]) "
   ]
  },
  {
   "cell_type": "markdown",
   "id": "24656d8e-5cde-4f42-9856-236722ad27fd",
   "metadata": {},
   "source": [
    "### Part 3:"
   ]
  },
  {
   "cell_type": "code",
   "execution_count": 5,
   "id": "d9a54d25-92f9-4318-a496-cff20b478a9d",
   "metadata": {},
   "outputs": [
    {
     "name": "stdout",
     "output_type": "stream",
     "text": [
      "title: The Lightning Thief\n"
     ]
    },
    {
     "ename": "KeyError",
     "evalue": "'author'",
     "output_type": "error",
     "traceback": [
      "\u001b[0;31m---------------------------------------------------------------------------\u001b[0m",
      "\u001b[0;31mKeyError\u001b[0m                                  Traceback (most recent call last)",
      "Cell \u001b[0;32mIn[5], line 5\u001b[0m\n\u001b[1;32m      3\u001b[0m dict_book\u001b[38;5;241m.\u001b[39mpop(\u001b[38;5;124m\"\u001b[39m\u001b[38;5;124mauthor\u001b[39m\u001b[38;5;124m\"\u001b[39m)\n\u001b[1;32m      4\u001b[0m \u001b[38;5;28mprint\u001b[39m(\u001b[38;5;124m\"\u001b[39m\u001b[38;5;124mtitle\u001b[39m\u001b[38;5;124m\"\u001b[39m \u001b[38;5;241m+\u001b[39m \u001b[38;5;124m\"\u001b[39m\u001b[38;5;124m: \u001b[39m\u001b[38;5;124m\"\u001b[39m \u001b[38;5;241m+\u001b[39m dict_book[\u001b[38;5;124m\"\u001b[39m\u001b[38;5;124mtitle\u001b[39m\u001b[38;5;124m\"\u001b[39m])\n\u001b[0;32m----> 5\u001b[0m \u001b[38;5;28mprint\u001b[39m(\u001b[38;5;124m\"\u001b[39m\u001b[38;5;124mauthor\u001b[39m\u001b[38;5;124m\"\u001b[39m \u001b[38;5;241m+\u001b[39m \u001b[38;5;124m\"\u001b[39m\u001b[38;5;124m: \u001b[39m\u001b[38;5;124m\"\u001b[39m \u001b[38;5;241m+\u001b[39m dict_book[\u001b[38;5;124m\"\u001b[39m\u001b[38;5;124mauthor\u001b[39m\u001b[38;5;124m\"\u001b[39m])\n",
      "\u001b[0;31mKeyError\u001b[0m: 'author'"
     ]
    }
   ],
   "source": [
    "dict_book = {\"title\" : \"The Lightning Thief\", \"author\" : \"Rick Riordan\",\"year published\" : \"2005\",\"genre\" : \"fantasy\"}\n",
    "dict_book[\"pages\"] = 384\n",
    "dict_book.pop(\"author\")\n",
    "print(\"title\" + \": \" + dict_book[\"title\"])\n",
    "print(\"author\" + \": \" + dict_book[\"author\"])"
   ]
  },
  {
   "cell_type": "markdown",
   "id": "05e1bd94-ffa5-4d58-a9ec-3eb04d1a92e2",
   "metadata": {},
   "source": [
    "### Part 4:"
   ]
  },
  {
   "cell_type": "code",
   "execution_count": 18,
   "id": "ad6338bf-737f-4418-8f41-628a097dd303",
   "metadata": {},
   "outputs": [
    {
     "name": "stdout",
     "output_type": "stream",
     "text": [
      "('red', 2002, 5, False, 1.73)\n",
      "False\n"
     ]
    },
    {
     "ename": "TypeError",
     "evalue": "'tuple' object does not support item assignment",
     "output_type": "error",
     "traceback": [
      "\u001b[0;31m---------------------------------------------------------------------------\u001b[0m",
      "\u001b[0;31mTypeError\u001b[0m                                 Traceback (most recent call last)",
      "Cell \u001b[0;32mIn[18], line 4\u001b[0m\n\u001b[1;32m      2\u001b[0m \u001b[38;5;28mprint\u001b[39m(my_tuple)\n\u001b[1;32m      3\u001b[0m \u001b[38;5;28mprint\u001b[39m(my_tuple[\u001b[38;5;241m3\u001b[39m])\n\u001b[0;32m----> 4\u001b[0m my_tuple[\u001b[38;5;241m2\u001b[39m] \u001b[38;5;241m=\u001b[39m \u001b[38;5;241m6\u001b[39m\n",
      "\u001b[0;31mTypeError\u001b[0m: 'tuple' object does not support item assignment"
     ]
    }
   ],
   "source": [
    "my_tuple = (\"red\", 2002, 5, False, 1.73)\n",
    "print(my_tuple)\n",
    "print(my_tuple[3])\n",
    "my_tuple[2] = 6\n",
    "# The tuple object does not allow you to change any of it items"
   ]
  },
  {
   "cell_type": "markdown",
   "id": "4bf7588a-96e0-470c-8f44-3343dc5aba3b",
   "metadata": {},
   "source": [
    "## Bonus:"
   ]
  },
  {
   "cell_type": "code",
   "execution_count": 21,
   "id": "6c1c7e13-5716-4a83-8615-7867bea6f26e",
   "metadata": {},
   "outputs": [],
   "source": [
    "dict_friends = {\"Soorya\" : (20, \"Black\"), \"Ashwin\" : (24, \"Blue\"), \"Aryaman\" : (21, \"White\")}"
   ]
  }
 ],
 "metadata": {
  "kernelspec": {
   "display_name": "Python 3 (ipykernel)",
   "language": "python",
   "name": "python3"
  },
  "language_info": {
   "codemirror_mode": {
    "name": "ipython",
    "version": 3
   },
   "file_extension": ".py",
   "mimetype": "text/x-python",
   "name": "python",
   "nbconvert_exporter": "python",
   "pygments_lexer": "ipython3",
   "version": "3.12.4"
  }
 },
 "nbformat": 4,
 "nbformat_minor": 5
}
